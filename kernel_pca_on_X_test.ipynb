{
  "nbformat": 4,
  "nbformat_minor": 0,
  "metadata": {
    "colab": {
      "provenance": [],
      "authorship_tag": "ABX9TyO2xY4MfOHZj3o7QdqKC+0b",
      "include_colab_link": true
    },
    "kernelspec": {
      "name": "python3",
      "display_name": "Python 3"
    },
    "language_info": {
      "name": "python"
    },
    "gpuClass": "standard"
  },
  "cells": [
    {
      "cell_type": "markdown",
      "metadata": {
        "id": "view-in-github",
        "colab_type": "text"
      },
      "source": [
        "<a href=\"https://colab.research.google.com/github/routb68/PRML_Projects/blob/main/kernel_pca_on_X_test.ipynb\" target=\"_parent\"><img src=\"https://colab.research.google.com/assets/colab-badge.svg\" alt=\"Open In Colab\"/></a>"
      ]
    },
    {
      "cell_type": "code",
      "execution_count": 1,
      "metadata": {
        "id": "azrXB08hndYV"
      },
      "outputs": [],
      "source": [
        "import numpy as np\n",
        "import matplotlib.pyplot as plt \n",
        "from keras.datasets import mnist"
      ]
    },
    {
      "cell_type": "code",
      "source": [
        "(x_train, y_train), (x_test, y_test) = mnist.load_data()"
      ],
      "metadata": {
        "id": "n265E2KZn0zz",
        "colab": {
          "base_uri": "https://localhost:8080/"
        },
        "outputId": "ea772a8e-5787-4435-c118-0be44b38c281"
      },
      "execution_count": 2,
      "outputs": [
        {
          "output_type": "stream",
          "name": "stdout",
          "text": [
            "Downloading data from https://storage.googleapis.com/tensorflow/tf-keras-datasets/mnist.npz\n",
            "11490434/11490434 [==============================] - 0s 0us/step\n"
          ]
        }
      ]
    },
    {
      "cell_type": "code",
      "source": [
        "x_train = x_train.reshape(60000, 784) # reshape 60,000 28 x 28 matrices into 60, 000 784-length vectors.\n",
        "x_test = x_test.reshape(10000, 784) # reshape 10,000 28 x 28 matrices into 10, 000 784-length vectors.\n",
        "print(\"x_train matrix shape\", x_train.shape)\n",
        "print(\"x_test matrix shape\", x_test.shape)"
      ],
      "metadata": {
        "colab": {
          "base_uri": "https://localhost:8080/"
        },
        "id": "RmcrqU0MoFBQ",
        "outputId": "e5ac6acd-a2be-44ff-8774-8c2c6cf35f77"
      },
      "execution_count": 3,
      "outputs": [
        {
          "output_type": "stream",
          "name": "stdout",
          "text": [
            "x_train matrix shape (60000, 784)\n",
            "x_test matrix shape (10000, 784)\n"
          ]
        }
      ]
    },
    {
      "cell_type": "code",
      "source": [
        "np_x_train = np.array(x_train)\n",
        "np_x_test = np.array(x_test)"
      ],
      "metadata": {
        "id": "by7SAS-6n7US"
      },
      "execution_count": 4,
      "outputs": []
    },
    {
      "cell_type": "code",
      "source": [
        "print(\"np_x_train shape\", np_x_train.shape)\n",
        "print(\"np_x_train[0] datatype\", np_x_train[0].dtype)"
      ],
      "metadata": {
        "colab": {
          "base_uri": "https://localhost:8080/"
        },
        "id": "fZsIlV-_oOWL",
        "outputId": "e0684d02-678f-4506-e672-672ff16de2d0"
      },
      "execution_count": 5,
      "outputs": [
        {
          "output_type": "stream",
          "name": "stdout",
          "text": [
            "np_x_train shape (60000, 784)\n",
            "np_x_train[0] datatype uint8\n"
          ]
        }
      ]
    },
    {
      "cell_type": "code",
      "source": [
        "np_x_train = np_x_train.astype(np.float64)\n",
        "np_x_test = np_x_test.astype(np.float64)\n",
        "print(\"np_x_train[0] datatype\", np_x_train[0].dtype)"
      ],
      "metadata": {
        "colab": {
          "base_uri": "https://localhost:8080/"
        },
        "id": "32JL6evXoSNf",
        "outputId": "aa82294d-63b5-424c-b8eb-6ed6fd89c018"
      },
      "execution_count": 6,
      "outputs": [
        {
          "output_type": "stream",
          "name": "stdout",
          "text": [
            "np_x_train[0] datatype float64\n"
          ]
        }
      ]
    },
    {
      "cell_type": "code",
      "source": [
        "transposearray=np.transpose(np_x_test)\n",
        "\n",
        "print(np_x_test.shape)"
      ],
      "metadata": {
        "colab": {
          "base_uri": "https://localhost:8080/"
        },
        "id": "WskCjD51ok7h",
        "outputId": "fef7deb3-29f6-4ae7-adb7-78c13b2702c3"
      },
      "execution_count": 7,
      "outputs": [
        {
          "output_type": "stream",
          "name": "stdout",
          "text": [
            "(10000, 784)\n"
          ]
        }
      ]
    },
    {
      "cell_type": "code",
      "source": [
        "print(transposearray.shape)"
      ],
      "metadata": {
        "colab": {
          "base_uri": "https://localhost:8080/"
        },
        "id": "XJ2ZV7SSpY1i",
        "outputId": "2a95eba2-44bb-4df8-94ee-24f82f05fd92"
      },
      "execution_count": 8,
      "outputs": [
        {
          "output_type": "stream",
          "name": "stdout",
          "text": [
            "(784, 10000)\n"
          ]
        }
      ]
    },
    {
      "cell_type": "code",
      "source": [
        "k=np.matmul(np_x_test,transposearray)\n",
        "\n",
        "print(k.shape)"
      ],
      "metadata": {
        "colab": {
          "base_uri": "https://localhost:8080/"
        },
        "id": "jTo5huHppurD",
        "outputId": "a6d4edf5-b2d5-429e-c66c-8372b6860054"
      },
      "execution_count": 10,
      "outputs": [
        {
          "output_type": "stream",
          "name": "stdout",
          "text": [
            "(10000, 10000)\n"
          ]
        }
      ]
    },
    {
      "cell_type": "code",
      "source": [
        "for i in range(10000):\n",
        "    for j in range(10000):\n",
        "        k[i][j]+=1\n",
        "for i in range(10000):\n",
        "    for j in range(10000):\n",
        "        k[i][j]=k[i][j]*k[i][j]\n",
        "I=np.identity(10000) \n",
        "div=1/10000\n",
        "divmat=np.full((10000,10000), div)\n",
        "matminus = np.subtract(I, divmat) \n",
        "f=np.matmul(matminus, k)\n",
        "kernalcent=np.matmul(f, matminus)"
      ],
      "metadata": {
        "id": "wAKvZWHxqspo"
      },
      "execution_count": 11,
      "outputs": []
    },
    {
      "cell_type": "code",
      "source": [
        "print(I.shape)\n",
        "print(div)\n",
        "print(divmat.shape)\n",
        "print(matminus.shape)\n",
        "print(f.shape)\n",
        "print(kernalcent.shape)"
      ],
      "metadata": {
        "colab": {
          "base_uri": "https://localhost:8080/"
        },
        "id": "4OEdOnkvq9H_",
        "outputId": "25b9b9b3-f21c-45c2-805d-06a97660522f"
      },
      "execution_count": 12,
      "outputs": [
        {
          "output_type": "stream",
          "name": "stdout",
          "text": [
            "(10000, 10000)\n",
            "0.0001\n",
            "(10000, 10000)\n",
            "(10000, 10000)\n",
            "(10000, 10000)\n",
            "(10000, 10000)\n"
          ]
        }
      ]
    },
    {
      "cell_type": "code",
      "source": [
        "eig_vals, eig_vecs = np.linalg.eig(kernalcent)"
      ],
      "metadata": {
        "id": "Xxec9hv-ruTz"
      },
      "execution_count": 13,
      "outputs": []
    },
    {
      "cell_type": "code",
      "source": [
        "print(eig_vals.shape)\n",
        "for i in range (20):\n",
        "  print(f\"{i+1} th eigen value is - {np.real(eig_vals[i])}\")"
      ],
      "metadata": {
        "colab": {
          "base_uri": "https://localhost:8080/"
        },
        "id": "sV3-74Hdrwpr",
        "outputId": "8077d3ba-b2b3-4fd0-b544-8122b8c062ea"
      },
      "execution_count": 14,
      "outputs": [
        {
          "output_type": "stream",
          "name": "stdout",
          "text": [
            "(10000,)\n",
            "1 th eigen value is - 2.937058367810468e+16\n",
            "2 th eigen value is - 1.5878772826169492e+16\n",
            "3 th eigen value is - 1.456836255270512e+16\n",
            "4 th eigen value is - 1.2973999479500286e+16\n",
            "5 th eigen value is - 1.2226869158107738e+16\n",
            "6 th eigen value is - 9146911596731142.0\n",
            "7 th eigen value is - 7005641874852081.0\n",
            "8 th eigen value is - 6677522052940824.0\n",
            "9 th eigen value is - 5812567974517029.0\n",
            "10 th eigen value is - 5067498600964869.0\n",
            "11 th eigen value is - 4648686647219761.0\n",
            "12 th eigen value is - 4525274083637092.0\n",
            "13 th eigen value is - 3792124562296917.5\n",
            "14 th eigen value is - 3552264234891780.5\n",
            "15 th eigen value is - 3427330216660477.0\n",
            "16 th eigen value is - 3277769220322855.5\n",
            "17 th eigen value is - 2991361055725248.0\n",
            "18 th eigen value is - 2823995380103569.0\n",
            "19 th eigen value is - 2673482797658115.0\n",
            "20 th eigen value is - 2572269467535210.0\n"
          ]
        }
      ]
    },
    {
      "cell_type": "code",
      "source": [
        "print(eig_vecs.shape)"
      ],
      "metadata": {
        "colab": {
          "base_uri": "https://localhost:8080/"
        },
        "id": "mCLsxmmBsqDb",
        "outputId": "2d81e18a-ce3c-40ed-ec39-6d21cbc12ba2"
      },
      "execution_count": 15,
      "outputs": [
        {
          "output_type": "stream",
          "name": "stdout",
          "text": [
            "(10000, 10000)\n"
          ]
        }
      ]
    },
    {
      "cell_type": "code",
      "source": [
        "variance = 0\n",
        "for i in range (10000):\n",
        "  variance = ( variance + eig_vals[i])\n",
        "print(variance)"
      ],
      "metadata": {
        "colab": {
          "base_uri": "https://localhost:8080/"
        },
        "id": "c6HpXDFg0SDg",
        "outputId": "39249f2a-8acc-4f17-c30b-66499fd8da65"
      },
      "execution_count": 17,
      "outputs": [
        {
          "output_type": "stream",
          "name": "stdout",
          "text": [
            "3.1194120406633414e+17\n"
          ]
        }
      ]
    },
    {
      "cell_type": "code",
      "source": [
        "var95 = 0\n",
        "dimension = 0\n",
        "for i in range (10000):\n",
        "  var95 = (var95 + np.real(eig_vals[i]))\n",
        "  if(var95 >= (0.95 * variance)):\n",
        "    dimension = i\n",
        "    break;\n",
        "print(var95)\n",
        "print(var95/variance)\n",
        "print(dimension)"
      ],
      "metadata": {
        "colab": {
          "base_uri": "https://localhost:8080/"
        },
        "id": "QRi15P2c0eSj",
        "outputId": "cc32f005-d0bf-4aeb-8d11-510144be8edd"
      },
      "execution_count": 18,
      "outputs": [
        {
          "output_type": "stream",
          "name": "stdout",
          "text": [
            "2.9635228760874566e+17\n",
            "0.9500261066688916\n",
            "1766\n"
          ]
        }
      ]
    },
    {
      "cell_type": "code",
      "source": [
        "a = 0\n",
        "a = a + np.real(eig_vals[0])\n",
        "a = a + np.real(eig_vals[1])\n",
        "\n",
        "print(a)\n",
        "\n",
        "print(100*(a/variance))"
      ],
      "metadata": {
        "colab": {
          "base_uri": "https://localhost:8080/"
        },
        "id": "mnwdlNT50j0p",
        "outputId": "82d737b5-d159-4882-cf22-3b3386ee5282"
      },
      "execution_count": 19,
      "outputs": [
        {
          "output_type": "stream",
          "name": "stdout",
          "text": [
            "4.524935650427418e+16\n",
            "14.505732463176594\n"
          ]
        }
      ]
    },
    {
      "cell_type": "code",
      "source": [
        "eig_vecs = eig_vecs.transpose()\n",
        "eigenval1=eig_vals[0]\n",
        "eigenval2=eig_vals[1]\n",
        "eigenvec1=eig_vecs[0]\n",
        "eigenvec2=eig_vecs[1]"
      ],
      "metadata": {
        "id": "4F-KQiyRMI4w"
      },
      "execution_count": 20,
      "outputs": []
    },
    {
      "cell_type": "code",
      "source": [
        "import math \n",
        "e1=math.sqrt(eigenval1)\n",
        "e2=math.sqrt(eigenval2)\n",
        "alpha1=np.divide(eigenvec1, e1)\n",
        "alpha2=np.divide(eigenvec2, e2)"
      ],
      "metadata": {
        "id": "s8l5yc93MNPT"
      },
      "execution_count": 21,
      "outputs": []
    },
    {
      "cell_type": "code",
      "source": [
        "c1=np.matmul(kernalcent, alpha1)\n",
        "c2=np.matmul(kernalcent, alpha2)"
      ],
      "metadata": {
        "id": "eIzmq5OgMRFd"
      },
      "execution_count": 22,
      "outputs": []
    },
    {
      "cell_type": "code",
      "source": [
        "print(c1.shape)\n",
        "print(c2.shape)"
      ],
      "metadata": {
        "colab": {
          "base_uri": "https://localhost:8080/"
        },
        "id": "oPuumHqwMW-v",
        "outputId": "ad4bf69f-1ceb-49b0-d34c-a7c181630984"
      },
      "execution_count": 26,
      "outputs": [
        {
          "output_type": "stream",
          "name": "stdout",
          "text": [
            "(10000,)\n",
            "(10000,)\n"
          ]
        }
      ]
    },
    {
      "cell_type": "code",
      "source": [
        "plt.scatter(c1,c2)"
      ],
      "metadata": {
        "colab": {
          "base_uri": "https://localhost:8080/",
          "height": 306
        },
        "id": "l2lA4XtyMUAH",
        "outputId": "1bcc295d-1159-4247-c972-89fef0ce1f67"
      },
      "execution_count": 23,
      "outputs": [
        {
          "output_type": "execute_result",
          "data": {
            "text/plain": [
              "<matplotlib.collections.PathCollection at 0x7fdb3fb43f70>"
            ]
          },
          "metadata": {},
          "execution_count": 23
        },
        {
          "output_type": "display_data",
          "data": {
            "text/plain": [
              "<Figure size 432x288 with 1 Axes>"
            ],
            "image/png": "[encoded data removed]"
          },
          "metadata": {
            "needs_background": "light"
          }
        }
      ]
    }
  ]
}