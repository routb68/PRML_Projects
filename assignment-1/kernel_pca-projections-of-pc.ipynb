{
  "nbformat": 4,
  "nbformat_minor": 0,
  "metadata": {
    "colab": {
      "provenance": [],
      "authorship_tag": "ABX9TyOc7xCJJrekBV7iOypc/V2l",
      "include_colab_link": true
    },
    "kernelspec": {
      "name": "python3",
      "display_name": "Python 3"
    },
    "language_info": {
      "name": "python"
    },
    "gpuClass": "standard"
  },
  "cells": [
    {
      "cell_type": "markdown",
      "metadata": {
        "id": "view-in-github",
        "colab_type": "text"
      },
      "source": [
        "<a href=\"https://colab.research.google.com/github/routb68/PRML_Projects/blob/main/kernel_pca-projections-of-pc.ipynb\" target=\"_parent\"><img src=\"https://colab.research.google.com/assets/colab-badge.svg\" alt=\"Open In Colab\"/></a>"
      ]
    },
    {
      "cell_type": "code",
      "execution_count": 135,
      "metadata": {
        "id": "azrXB08hndYV"
      },
      "outputs": [],
      "source": [
        "import numpy as np\n",
        "import matplotlib.pyplot as plt \n",
        "from keras.datasets import mnist"
      ]
    },
    {
      "cell_type": "code",
      "source": [
        "(x_train, y_train), (x_test, y_test) = mnist.load_data()"
      ],
      "metadata": {
        "id": "n265E2KZn0zz"
      },
      "execution_count": 136,
      "outputs": []
    },
    {
      "cell_type": "code",
      "source": [
        "x_train = x_train.reshape(60000, 784) # reshape 60,000 28 x 28 matrices into 60, 000 784-length vectors.\n",
        "x_test = x_test.reshape(10000, 784) # reshape 10,000 28 x 28 matrices into 10, 000 784-length vectors.\n",
        "print(\"x_train matrix shape\", x_train.shape)\n",
        "print(\"x_test matrix shape\", x_test.shape)"
      ],
      "metadata": {
        "colab": {
          "base_uri": "https://localhost:8080/"
        },
        "id": "RmcrqU0MoFBQ",
        "outputId": "24760cb7-b23f-421b-a10f-851457ccd131"
      },
      "execution_count": 137,
      "outputs": [
        {
          "output_type": "stream",
          "name": "stdout",
          "text": [
            "x_train matrix shape (60000, 784)\n",
            "x_test matrix shape (10000, 784)\n"
          ]
        }
      ]
    },
    {
      "cell_type": "code",
      "source": [
        "np_x_train = np.array(x_train)\n",
        "np_x_test = np.array(x_test)"
      ],
      "metadata": {
        "id": "by7SAS-6n7US"
      },
      "execution_count": 138,
      "outputs": []
    },
    {
      "cell_type": "code",
      "source": [],
      "metadata": {
        "id": "YxJJpqvrDtaz"
      },
      "execution_count": 138,
      "outputs": []
    },
    {
      "cell_type": "code",
      "source": [
        "print(\"np_x_train shape\", np_x_train.shape)\n",
        "print(\"np_x_train[0] datatype\", np_x_train[0].dtype)"
      ],
      "metadata": {
        "colab": {
          "base_uri": "https://localhost:8080/"
        },
        "id": "fZsIlV-_oOWL",
        "outputId": "664ab428-db67-4d60-e276-6ef32b996ec6"
      },
      "execution_count": 139,
      "outputs": [
        {
          "output_type": "stream",
          "name": "stdout",
          "text": [
            "np_x_train shape (60000, 784)\n",
            "np_x_train[0] datatype uint8\n"
          ]
        }
      ]
    },
    {
      "cell_type": "code",
      "source": [
        "np_x_train = np_x_train.astype(np.float64)\n",
        "np_x_test = np_x_test.astype(np.float64)\n",
        "print(\"np_x_train[0] datatype\", np_x_train[0].dtype)"
      ],
      "metadata": {
        "colab": {
          "base_uri": "https://localhost:8080/"
        },
        "id": "32JL6evXoSNf",
        "outputId": "dcce6567-393f-48be-9848-5ab9dde55ef4"
      },
      "execution_count": 140,
      "outputs": [
        {
          "output_type": "stream",
          "name": "stdout",
          "text": [
            "np_x_train[0] datatype float64\n"
          ]
        }
      ]
    },
    {
      "cell_type": "code",
      "source": [
        "transposearray=np.transpose(np_x_train)\n",
        "\n",
        "print(np_x_train.shape)"
      ],
      "metadata": {
        "colab": {
          "base_uri": "https://localhost:8080/"
        },
        "id": "WskCjD51ok7h",
        "outputId": "f1a792b6-7c3f-4641-f024-92b0b8cdb993"
      },
      "execution_count": 141,
      "outputs": [
        {
          "output_type": "stream",
          "name": "stdout",
          "text": [
            "(60000, 784)\n"
          ]
        }
      ]
    },
    {
      "cell_type": "code",
      "source": [
        "print(transposearray.shape)"
      ],
      "metadata": {
        "colab": {
          "base_uri": "https://localhost:8080/"
        },
        "id": "XJ2ZV7SSpY1i",
        "outputId": "50d96d1b-9f64-4f24-9fff-6fcc2b088d78"
      },
      "execution_count": 142,
      "outputs": [
        {
          "output_type": "stream",
          "name": "stdout",
          "text": [
            "(784, 60000)\n"
          ]
        }
      ]
    },
    {
      "cell_type": "code",
      "source": [
        "k=np.matmul(transposearray,np_x_train)\n",
        "\n",
        "print(k.shape)"
      ],
      "metadata": {
        "colab": {
          "base_uri": "https://localhost:8080/"
        },
        "id": "jTo5huHppurD",
        "outputId": "3de1bb90-9141-497d-908a-b85698a60d33"
      },
      "execution_count": 143,
      "outputs": [
        {
          "output_type": "stream",
          "name": "stdout",
          "text": [
            "(784, 784)\n"
          ]
        }
      ]
    },
    {
      "cell_type": "code",
      "source": [
        "for i in range(784):\n",
        "    for j in range(784):\n",
        "        k[i][j]+=1\n",
        "for i in range(784):\n",
        "    for j in range(784):\n",
        "        k[i][j]=k[i][j]*k[i][j]\n",
        "I=np.identity(784) \n",
        "div=1/784\n",
        "divmat=np.full((784,784), div)\n",
        "matminus = np.subtract(I, divmat) \n",
        "f=np.matmul(matminus, k)\n",
        "kernalcent=np.matmul(f, matminus)"
      ],
      "metadata": {
        "id": "wAKvZWHxqspo"
      },
      "execution_count": 144,
      "outputs": []
    },
    {
      "cell_type": "code",
      "source": [
        "print(I.shape)\n",
        "print(div)\n",
        "print(divmat.shape)\n",
        "print(matminus.shape)\n",
        "print(f.shape)\n",
        "print(kernalcent.shape)"
      ],
      "metadata": {
        "colab": {
          "base_uri": "https://localhost:8080/"
        },
        "id": "4OEdOnkvq9H_",
        "outputId": "ed54e911-d9ee-41c8-c79f-1277414899e6"
      },
      "execution_count": 145,
      "outputs": [
        {
          "output_type": "stream",
          "name": "stdout",
          "text": [
            "(784, 784)\n",
            "0.0012755102040816326\n",
            "(784, 784)\n",
            "(784, 784)\n",
            "(784, 784)\n",
            "(784, 784)\n"
          ]
        }
      ]
    },
    {
      "cell_type": "code",
      "source": [
        "eig_vals, eig_vecs = np.linalg.eig(kernalcent)"
      ],
      "metadata": {
        "id": "Xxec9hv-ruTz"
      },
      "execution_count": 146,
      "outputs": []
    },
    {
      "cell_type": "code",
      "source": [
        "print(eig_vals.shape)\n",
        "for i in range (784):\n",
        "  print(f\"{i+1} th eigen value is - {np.real(eig_vals[i])}\")"
      ],
      "metadata": {
        "colab": {
          "base_uri": "https://localhost:8080/"
        },
        "id": "sV3-74Hdrwpr",
        "outputId": "06960352-f150-4597-c52e-f4a4b7fc5f90"
      },
      "execution_count": 147,
      "outputs": [
        {
          "output_type": "stream",
          "name": "stdout",
          "text": [
            "(784,)\n",
            "1 th eigen value is - 7.772502032820558e+19\n",
            "2 th eigen value is - 2.059528574951527e+19\n",
            "3 th eigen value is - 1.911212367206933e+19\n",
            "4 th eigen value is - 1.4116962317357509e+19\n",
            "5 th eigen value is - 1.2769890592009763e+19\n",
            "6 th eigen value is - 1.2119940741684363e+19\n",
            "7 th eigen value is - 9.682891132073202e+18\n",
            "8 th eigen value is - 9.294449127041745e+18\n",
            "9 th eigen value is - 8.56049324462213e+18\n",
            "10 th eigen value is - 8.01433556497571e+18\n",
            "11 th eigen value is - 7.198945438290649e+18\n",
            "12 th eigen value is - 6.38529656413657e+18\n",
            "13 th eigen value is - 5.684763303094888e+18\n",
            "14 th eigen value is - 5.428007935324473e+18\n",
            "15 th eigen value is - 5.364755602663073e+18\n",
            "16 th eigen value is - 5.013702683982985e+18\n",
            "17 th eigen value is - 4.694007715287129e+18\n",
            "18 th eigen value is - 4.506854626414779e+18\n",
            "19 th eigen value is - 4.2469286038432394e+18\n",
            "20 th eigen value is - 4.077081329189769e+18\n",
            "21 th eigen value is - 3.6802098752707686e+18\n",
            "22 th eigen value is - 3.5052669826688154e+18\n",
            "23 th eigen value is - 3.290416997165841e+18\n",
            "24 th eigen value is - 3.248885017504833e+18\n",
            "25 th eigen value is - 3.070759744636977e+18\n",
            "26 th eigen value is - 2.8877709766572595e+18\n",
            "27 th eigen value is - 2.820913797060147e+18\n",
            "28 th eigen value is - 2.7153795946581084e+18\n",
            "29 th eigen value is - 2.6449578356112814e+18\n",
            "30 th eigen value is - 2.507347835137082e+18\n",
            "31 th eigen value is - 2.453850474207398e+18\n",
            "32 th eigen value is - 2.2884713282118692e+18\n",
            "33 th eigen value is - 2.224754375363734e+18\n",
            "34 th eigen value is - 2.1671995751532861e+18\n",
            "35 th eigen value is - 2.0807298719391089e+18\n",
            "36 th eigen value is - 2.048537085158241e+18\n",
            "37 th eigen value is - 1.9326912324127165e+18\n",
            "38 th eigen value is - 1.8137951869097677e+18\n",
            "39 th eigen value is - 1.7921594871457336e+18\n",
            "40 th eigen value is - 1.723948735148302e+18\n",
            "41 th eigen value is - 1.6346865342686072e+18\n",
            "42 th eigen value is - 1.5473493389699955e+18\n",
            "43 th eigen value is - 1.5177389455146012e+18\n",
            "44 th eigen value is - 1.47565232829259e+18\n",
            "45 th eigen value is - 1.4611809822824172e+18\n",
            "46 th eigen value is - 1.397747166613687e+18\n",
            "47 th eigen value is - 1.3475855852823923e+18\n",
            "48 th eigen value is - 1.3040991222047803e+18\n",
            "49 th eigen value is - 1.265094643939033e+18\n",
            "50 th eigen value is - 1.2302842569869857e+18\n",
            "51 th eigen value is - 1.1769098084832113e+18\n",
            "52 th eigen value is - 1.1691261587586422e+18\n",
            "53 th eigen value is - 1.1412029780285057e+18\n",
            "54 th eigen value is - 1.0792295628197932e+18\n",
            "55 th eigen value is - 1.0569039550813121e+18\n",
            "56 th eigen value is - 1.0264725059473034e+18\n",
            "57 th eigen value is - 1.0351546822611085e+18\n",
            "58 th eigen value is - 9.634563808084943e+17\n",
            "59 th eigen value is - 9.373185576604534e+17\n",
            "60 th eigen value is - 9.2206519607644e+17\n",
            "61 th eigen value is - 8.928508347224124e+17\n",
            "62 th eigen value is - 8.720591834428282e+17\n",
            "63 th eigen value is - 8.528714775859118e+17\n",
            "64 th eigen value is - 8.225069795311485e+17\n",
            "65 th eigen value is - 8.00160217498749e+17\n",
            "66 th eigen value is - 7.887275545057631e+17\n",
            "67 th eigen value is - 7.750510767222843e+17\n",
            "68 th eigen value is - 7.338391011288265e+17\n",
            "69 th eigen value is - 7.293275138167347e+17\n",
            "70 th eigen value is - 7.141752308104905e+17\n",
            "71 th eigen value is - 6.931487102494842e+17\n",
            "72 th eigen value is - 6.697638632707718e+17\n",
            "73 th eigen value is - 6.515113367163414e+17\n",
            "74 th eigen value is - 6.351653109085951e+17\n",
            "75 th eigen value is - 6.177112003305445e+17\n",
            "76 th eigen value is - 6.260832917854482e+17\n",
            "77 th eigen value is - 6.251158464717604e+17\n",
            "78 th eigen value is - 5.835212167711387e+17\n",
            "79 th eigen value is - 5.693514157634397e+17\n",
            "80 th eigen value is - 5.605605263312371e+17\n",
            "81 th eigen value is - 5.4170202672225856e+17\n",
            "82 th eigen value is - 5.339588056920675e+17\n",
            "83 th eigen value is - 5.2803166468512525e+17\n",
            "84 th eigen value is - 5.200831993318481e+17\n",
            "85 th eigen value is - 4.962614476498568e+17\n",
            "86 th eigen value is - 4.916172179864886e+17\n",
            "87 th eigen value is - 4.85836445257281e+17\n",
            "88 th eigen value is - 4.797912413665417e+17\n",
            "89 th eigen value is - 4.627866114272845e+17\n",
            "90 th eigen value is - 4.5265100323323405e+17\n",
            "91 th eigen value is - 4.4942108887907603e+17\n",
            "92 th eigen value is - 4.391478617217746e+17\n",
            "93 th eigen value is - 4.352714831088461e+17\n",
            "94 th eigen value is - 4.319708005987785e+17\n",
            "95 th eigen value is - 4.113925878558105e+17\n",
            "96 th eigen value is - 4.095698323052175e+17\n",
            "97 th eigen value is - 3.999050168617067e+17\n",
            "98 th eigen value is - 3.9042125674771603e+17\n",
            "99 th eigen value is - 3.8925881040583974e+17\n",
            "100 th eigen value is - 3.812238560253636e+17\n",
            "101 th eigen value is - 3.527788579841019e+17\n",
            "102 th eigen value is - 3.5985402383659866e+17\n",
            "103 th eigen value is - 3.6366521359507814e+17\n",
            "104 th eigen value is - 3.656146119652884e+17\n",
            "105 th eigen value is - 3.676036308399525e+17\n",
            "106 th eigen value is - 3.481863710872901e+17\n",
            "107 th eigen value is - 3.4526517223582163e+17\n",
            "108 th eigen value is - 3.3651054191656614e+17\n",
            "109 th eigen value is - 3.244756649500531e+17\n",
            "110 th eigen value is - 3.1882519221097363e+17\n",
            "111 th eigen value is - 3.152002285275243e+17\n",
            "112 th eigen value is - 3.12434511805754e+17\n",
            "113 th eigen value is - 3.018131521832801e+17\n",
            "114 th eigen value is - 3.063591423190834e+17\n",
            "115 th eigen value is - 3.068268235033233e+17\n",
            "116 th eigen value is - 2.9281471561265216e+17\n",
            "117 th eigen value is - 2.8744723395845187e+17\n",
            "118 th eigen value is - 2.7824732750997142e+17\n",
            "119 th eigen value is - 2.8121913306246813e+17\n",
            "120 th eigen value is - 2.5752842454210698e+17\n",
            "121 th eigen value is - 2.6018880263696275e+17\n",
            "122 th eigen value is - 2.6789619977452294e+17\n",
            "123 th eigen value is - 2.665560111226581e+17\n",
            "124 th eigen value is - 2.750333568215338e+17\n",
            "125 th eigen value is - 2.7647574828886125e+17\n",
            "126 th eigen value is - 2.5438385891381325e+17\n",
            "127 th eigen value is - 2.4741091618603795e+17\n",
            "128 th eigen value is - 2.4683709135114074e+17\n",
            "129 th eigen value is - 2.452048976007899e+17\n",
            "130 th eigen value is - 2.3735193346771277e+17\n",
            "131 th eigen value is - 2.3958253531291834e+17\n",
            "132 th eigen value is - 2.360837837309569e+17\n",
            "133 th eigen value is - 2.3368255168321315e+17\n",
            "134 th eigen value is - 2.29164807186854e+17\n",
            "135 th eigen value is - 2.267154656775217e+17\n",
            "136 th eigen value is - 2.2172039962503875e+17\n",
            "137 th eigen value is - 2.207457126155867e+17\n",
            "138 th eigen value is - 2.1236095056738326e+17\n",
            "139 th eigen value is - 2.135729187631418e+17\n",
            "140 th eigen value is - 2.0985291787021773e+17\n",
            "141 th eigen value is - 2.0856584030284778e+17\n",
            "142 th eigen value is - 2.0132883410277814e+17\n",
            "143 th eigen value is - 1.99407186530783e+17\n",
            "144 th eigen value is - 1.9585594578928438e+17\n",
            "145 th eigen value is - 1.9283403148145002e+17\n",
            "146 th eigen value is - 1.9199473939469837e+17\n",
            "147 th eigen value is - 1.9081644381988074e+17\n",
            "148 th eigen value is - 1.8961986810675165e+17\n",
            "149 th eigen value is - 1.866571192787772e+17\n",
            "150 th eigen value is - 1.841172425495791e+17\n",
            "151 th eigen value is - 1.8262943386041238e+17\n",
            "152 th eigen value is - 1.806265870973049e+17\n",
            "153 th eigen value is - 1.7591997275860598e+17\n",
            "154 th eigen value is - 1.754620969956653e+17\n",
            "155 th eigen value is - 1.7409658145451165e+17\n",
            "156 th eigen value is - 1.7190701979058054e+17\n",
            "157 th eigen value is - 1.7052549179125248e+17\n",
            "158 th eigen value is - 1.6857009170143923e+17\n",
            "159 th eigen value is - 1.6562801165635318e+17\n",
            "160 th eigen value is - 1.6461603797897987e+17\n",
            "161 th eigen value is - 1.6270073532920586e+17\n",
            "162 th eigen value is - 1.5858729482274038e+17\n",
            "163 th eigen value is - 1.57584671962871e+17\n",
            "164 th eigen value is - 1.547523780279352e+17\n",
            "165 th eigen value is - 1.5669957034182646e+17\n",
            "166 th eigen value is - 1.5585148237629734e+17\n",
            "167 th eigen value is - 1.5212891978383363e+17\n",
            "168 th eigen value is - 1.5131958026108083e+17\n",
            "169 th eigen value is - 1.4951713280275485e+17\n",
            "170 th eigen value is - 1.4865172476162685e+17\n",
            "171 th eigen value is - 1.4567109150505962e+17\n",
            "172 th eigen value is - 1.4405350127076589e+17\n",
            "173 th eigen value is - 1.3850403918503602e+17\n",
            "174 th eigen value is - 1.3952393531294886e+17\n",
            "175 th eigen value is - 1.4091650179581186e+17\n",
            "176 th eigen value is - 1.4190367143981768e+17\n",
            "177 th eigen value is - 1.3525343016882022e+17\n",
            "178 th eigen value is - 1.3476634105893096e+17\n",
            "179 th eigen value is - 1.3292335910608944e+17\n",
            "180 th eigen value is - 1.3146990821038394e+17\n",
            "181 th eigen value is - 1.2986805490757034e+17\n",
            "182 th eigen value is - 1.2890654967728005e+17\n",
            "183 th eigen value is - 1.2756052632424102e+17\n",
            "184 th eigen value is - 1.2369946711876566e+17\n",
            "185 th eigen value is - 1.2635011140909389e+17\n",
            "186 th eigen value is - 1.2533997765058366e+17\n",
            "187 th eigen value is - 1.2584066274517002e+17\n",
            "188 th eigen value is - 1.228395963890052e+17\n",
            "189 th eigen value is - 1.2189902883262885e+17\n",
            "190 th eigen value is - 1.203368032282795e+17\n",
            "191 th eigen value is - 1.1875615150691202e+17\n",
            "192 th eigen value is - 1.2092553983569469e+17\n",
            "193 th eigen value is - 1.1702656659416789e+17\n",
            "194 th eigen value is - 1.1545083087116261e+17\n",
            "195 th eigen value is - 1.1189698226307342e+17\n",
            "196 th eigen value is - 1.1063225263809942e+17\n",
            "197 th eigen value is - 1.016608095818934e+17\n",
            "198 th eigen value is - 1.095847072931614e+17\n",
            "199 th eigen value is - 1.1325221631572056e+17\n",
            "200 th eigen value is - 1.1416695245868365e+17\n",
            "201 th eigen value is - 1.059576754434505e+17\n",
            "202 th eigen value is - 1.0265854025826208e+17\n",
            "203 th eigen value is - 1.0433844730444658e+17\n",
            "204 th eigen value is - 1.069200228296522e+17\n",
            "205 th eigen value is - 1.0344335362226726e+17\n",
            "206 th eigen value is - 1.083862547779492e+17\n",
            "207 th eigen value is - 1.004123727911784e+17\n",
            "208 th eigen value is - 9.826668786730864e+16\n",
            "209 th eigen value is - 9.781732546471395e+16\n",
            "210 th eigen value is - 9.624626762163805e+16\n",
            "211 th eigen value is - 9.502223872356203e+16\n",
            "212 th eigen value is - 9.437841312889072e+16\n",
            "213 th eigen value is - 9.323198298638968e+16\n",
            "214 th eigen value is - 9.25775021365602e+16\n",
            "215 th eigen value is - 9.172508610128939e+16\n",
            "216 th eigen value is - 9.170813884745133e+16\n",
            "217 th eigen value is - 9.043138750713333e+16\n",
            "218 th eigen value is - 8.963218008652768e+16\n",
            "219 th eigen value is - 8.733937748421235e+16\n",
            "220 th eigen value is - 8.824876645878682e+16\n",
            "221 th eigen value is - 8.848542338496538e+16\n",
            "222 th eigen value is - 8.480222801993725e+16\n",
            "223 th eigen value is - 8.443529089027499e+16\n",
            "224 th eigen value is - 8.321734091252843e+16\n",
            "225 th eigen value is - 8.258973009763904e+16\n",
            "226 th eigen value is - 8.225047283995485e+16\n",
            "227 th eigen value is - 8.146460864593651e+16\n",
            "228 th eigen value is - 8.056081662446149e+16\n",
            "229 th eigen value is - 8.003942910130432e+16\n",
            "230 th eigen value is - 7.875210330661749e+16\n",
            "231 th eigen value is - 7.802187918538344e+16\n",
            "232 th eigen value is - 7.727562864486352e+16\n",
            "233 th eigen value is - 7.650041514387843e+16\n",
            "234 th eigen value is - 7.612897943705872e+16\n",
            "235 th eigen value is - 7.487072207542211e+16\n",
            "236 th eigen value is - 7.458187288369765e+16\n",
            "237 th eigen value is - 7.228244153030854e+16\n",
            "238 th eigen value is - 7.200386949061175e+16\n",
            "239 th eigen value is - 7.023080931428202e+16\n",
            "240 th eigen value is - 6.898962117658001e+16\n",
            "241 th eigen value is - 6.951647046966352e+16\n",
            "242 th eigen value is - 6.855260507198257e+16\n",
            "243 th eigen value is - 6.769877851140806e+16\n",
            "244 th eigen value is - 6.730675947585765e+16\n",
            "245 th eigen value is - 6.477380259950537e+16\n",
            "246 th eigen value is - 6.569254711905268e+16\n",
            "247 th eigen value is - 6.637842413033331e+16\n",
            "248 th eigen value is - 6.3120875295009224e+16\n",
            "249 th eigen value is - 6.300460623312697e+16\n",
            "250 th eigen value is - 6.1696138841070424e+16\n",
            "251 th eigen value is - 5.9915900653005816e+16\n",
            "252 th eigen value is - 5.913757870552441e+16\n",
            "253 th eigen value is - 6.068570800812838e+16\n",
            "254 th eigen value is - 5.963786664492607e+16\n",
            "255 th eigen value is - 6.120020777838563e+16\n",
            "256 th eigen value is - 5.443257402588413e+16\n",
            "257 th eigen value is - 5.511370444909094e+16\n",
            "258 th eigen value is - 5.803753603380668e+16\n",
            "259 th eigen value is - 5.7282249941433464e+16\n",
            "260 th eigen value is - 5.617729452860291e+16\n",
            "261 th eigen value is - 5.252453195777755e+16\n",
            "262 th eigen value is - 5.6714386369878344e+16\n",
            "263 th eigen value is - 5.126105106139522e+16\n",
            "264 th eigen value is - 5.1617586696070664e+16\n",
            "265 th eigen value is - 4.745012656723918e+16\n",
            "266 th eigen value is - 5.0159325662192056e+16\n",
            "267 th eigen value is - 4.841547483905964e+16\n",
            "268 th eigen value is - 4.920318185735337e+16\n",
            "269 th eigen value is - 4.980283195995862e+16\n",
            "270 th eigen value is - 4.944044284914549e+16\n",
            "271 th eigen value is - 4.689178421974225e+16\n",
            "272 th eigen value is - 4.550319741776145e+16\n",
            "273 th eigen value is - 4.516476480825957e+16\n",
            "274 th eigen value is - 4.478370859931229e+16\n",
            "275 th eigen value is - 4.365881460307986e+16\n",
            "276 th eigen value is - 4.32726811160751e+16\n",
            "277 th eigen value is - 4.249855402340742e+16\n",
            "278 th eigen value is - 4.173564324470143e+16\n",
            "279 th eigen value is - 4.055236429973566e+16\n",
            "280 th eigen value is - 3.989306427892897e+16\n",
            "281 th eigen value is - 3.998379122653785e+16\n",
            "282 th eigen value is - 3.868834572532108e+16\n",
            "283 th eigen value is - 3.672874207974286e+16\n",
            "284 th eigen value is - 3.7959379938651864e+16\n",
            "285 th eigen value is - 3.775657641157746e+16\n",
            "286 th eigen value is - 3.5504956560724084e+16\n",
            "287 th eigen value is - 3.51212301667139e+16\n",
            "288 th eigen value is - 3.4399901582548932e+16\n",
            "289 th eigen value is - 3.4097048513943456e+16\n",
            "290 th eigen value is - 3.329948775725659e+16\n",
            "291 th eigen value is - 3.3502960715786268e+16\n",
            "292 th eigen value is - 3.2437260864468692e+16\n",
            "293 th eigen value is - 3.2585242976220588e+16\n",
            "294 th eigen value is - 3.159250168621922e+16\n",
            "295 th eigen value is - 3.1190634805295144e+16\n",
            "296 th eigen value is - 2.9930942346715428e+16\n",
            "297 th eigen value is - 2.8954924864255676e+16\n",
            "298 th eigen value is - 2.9447633247006704e+16\n",
            "299 th eigen value is - 2.9257728926647836e+16\n",
            "300 th eigen value is - 2.8439370141791556e+16\n",
            "301 th eigen value is - 2.857627478423414e+16\n",
            "302 th eigen value is - 2.7290635684349736e+16\n",
            "303 th eigen value is - 2.7903722244168716e+16\n",
            "304 th eigen value is - 2.6430461768227372e+16\n",
            "305 th eigen value is - 2.5968863876681228e+16\n",
            "306 th eigen value is - 2.52843644874959e+16\n",
            "307 th eigen value is - 2.4525646693657948e+16\n",
            "308 th eigen value is - 2.423373436029547e+16\n",
            "309 th eigen value is - 2.3780719531452308e+16\n",
            "310 th eigen value is - 2.31296979404216e+16\n",
            "311 th eigen value is - 2.2328168947151436e+16\n",
            "312 th eigen value is - 2.190927058744364e+16\n",
            "313 th eigen value is - 2.1728278570641816e+16\n",
            "314 th eigen value is - 2.131374235439108e+16\n",
            "315 th eigen value is - 2.1023719687034452e+16\n",
            "316 th eigen value is - 2.04395248734955e+16\n",
            "317 th eigen value is - 2.0010097197338268e+16\n",
            "318 th eigen value is - 1.913644449746545e+16\n",
            "319 th eigen value is - 1.9223475010325732e+16\n",
            "320 th eigen value is - 1.876808622365724e+16\n",
            "321 th eigen value is - 1.868709477042356e+16\n",
            "322 th eigen value is - 1.7180964499909292e+16\n",
            "323 th eigen value is - 1.7387634581403294e+16\n",
            "324 th eigen value is - 1.686335913572623e+16\n",
            "325 th eigen value is - 1.643808698413118e+16\n",
            "326 th eigen value is - 1.6059731173598642e+16\n",
            "327 th eigen value is - 1.5502349514871842e+16\n",
            "328 th eigen value is - 1.5353860186256874e+16\n",
            "329 th eigen value is - 1.5274413944873344e+16\n",
            "330 th eigen value is - 1.4994192429670724e+16\n",
            "331 th eigen value is - 1.477155190925496e+16\n",
            "332 th eigen value is - 1.4511594469703264e+16\n",
            "333 th eigen value is - 1.398053688451357e+16\n",
            "334 th eigen value is - 1.4054055726043094e+16\n",
            "335 th eigen value is - 1.3745066064466094e+16\n",
            "336 th eigen value is - 1.3530737397852344e+16\n",
            "337 th eigen value is - 1.2840651741554616e+16\n",
            "338 th eigen value is - 1.3005150925341628e+16\n",
            "339 th eigen value is - 1.2297309618602638e+16\n",
            "340 th eigen value is - 1.2267056052217198e+16\n",
            "341 th eigen value is - 1.2013926311981986e+16\n",
            "342 th eigen value is - 1.1667571877750324e+16\n",
            "343 th eigen value is - 1.1721570040669762e+16\n",
            "344 th eigen value is - 1.089070353266926e+16\n",
            "345 th eigen value is - 1.0522374546470748e+16\n",
            "346 th eigen value is - 1.0654415318981682e+16\n",
            "347 th eigen value is - 1.011959581666173e+16\n",
            "348 th eigen value is - 9765096953972630.0\n",
            "349 th eigen value is - 9665867109467824.0\n",
            "350 th eigen value is - 9564367338932368.0\n",
            "351 th eigen value is - 8475999254465385.0\n",
            "352 th eigen value is - 8015257284503085.0\n",
            "353 th eigen value is - 8173577093206619.0\n",
            "354 th eigen value is - 8210268083191029.0\n",
            "355 th eigen value is - 7133231060508723.0\n",
            "356 th eigen value is - 7676348024626297.0\n",
            "357 th eigen value is - 7415663359943442.0\n",
            "358 th eigen value is - 7593842337728060.0\n",
            "359 th eigen value is - 7493338259959338.0\n",
            "360 th eigen value is - 7564788213728439.0\n",
            "361 th eigen value is - 7535059651182581.0\n",
            "362 th eigen value is - 6699408486111082.0\n",
            "363 th eigen value is - 6755858052204516.0\n",
            "364 th eigen value is - 6740393059214965.0\n",
            "365 th eigen value is - 6336920750836305.0\n",
            "366 th eigen value is - 6286765928240011.0\n",
            "367 th eigen value is - 6152519178332032.0\n",
            "368 th eigen value is - 6100508329361487.0\n",
            "369 th eigen value is - 6055963344638162.0\n",
            "370 th eigen value is - 5787170918314239.0\n",
            "371 th eigen value is - 5641375796363987.0\n",
            "372 th eigen value is - 5438013764843413.0\n",
            "373 th eigen value is - 5301259561670865.0\n",
            "374 th eigen value is - 5086021836847174.0\n",
            "375 th eigen value is - 5036449616701777.0\n",
            "376 th eigen value is - 4842424598330820.0\n",
            "377 th eigen value is - 4805691802999647.0\n",
            "378 th eigen value is - 4783191489472162.0\n",
            "379 th eigen value is - 4606930900980478.0\n",
            "380 th eigen value is - 4333087495765749.0\n",
            "381 th eigen value is - 4153481926821507.5\n",
            "382 th eigen value is - 4114849385812135.5\n",
            "383 th eigen value is - 4073446078644587.0\n",
            "384 th eigen value is - 3971311547684019.5\n",
            "385 th eigen value is - 3715797413351737.0\n",
            "386 th eigen value is - 3703305248745228.5\n",
            "387 th eigen value is - 3664684414359515.5\n",
            "388 th eigen value is - 3527899855568197.5\n",
            "389 th eigen value is - 3539374134148564.0\n",
            "390 th eigen value is - 3386277911177480.0\n",
            "391 th eigen value is - 3226140756033436.5\n",
            "392 th eigen value is - 3200517482141637.5\n",
            "393 th eigen value is - 3092402490648654.0\n",
            "394 th eigen value is - 3068024933729631.5\n",
            "395 th eigen value is - 2954973976985029.0\n",
            "396 th eigen value is - 2843307767913892.0\n",
            "397 th eigen value is - 2779488060710721.5\n",
            "398 th eigen value is - 2750095144518600.5\n",
            "399 th eigen value is - 2587377692977429.0\n",
            "400 th eigen value is - 2640964127343555.5\n",
            "401 th eigen value is - 2635508772691506.0\n",
            "402 th eigen value is - 2477885998346344.5\n",
            "403 th eigen value is - 2420599986033306.0\n",
            "404 th eigen value is - 2371610144893330.0\n",
            "405 th eigen value is - 2377320726213733.5\n",
            "406 th eigen value is - 2268787341827814.0\n",
            "407 th eigen value is - 2015645968420614.2\n",
            "408 th eigen value is - 1970693330576271.8\n",
            "409 th eigen value is - 1955276464607568.8\n",
            "410 th eigen value is - 1945574960935779.2\n",
            "411 th eigen value is - 1898266923360692.5\n",
            "412 th eigen value is - 1861720596009540.2\n",
            "413 th eigen value is - 1842152139056713.5\n",
            "414 th eigen value is - 1749972760179082.0\n",
            "415 th eigen value is - 1663865271619852.0\n",
            "416 th eigen value is - 1653257064902069.8\n",
            "417 th eigen value is - 1579597147376251.0\n",
            "418 th eigen value is - 1492583911960887.2\n",
            "419 th eigen value is - 1502106901975704.5\n",
            "420 th eigen value is - 1514307251112657.5\n",
            "421 th eigen value is - 1552173097708102.2\n",
            "422 th eigen value is - 1546129168918632.2\n",
            "423 th eigen value is - 1348360736574181.2\n",
            "424 th eigen value is - 1305404081906448.2\n",
            "425 th eigen value is - 1281307871232734.5\n",
            "426 th eigen value is - 1276270372446870.5\n",
            "427 th eigen value is - 1240037057150688.2\n",
            "428 th eigen value is - 1199668465356664.0\n",
            "429 th eigen value is - 1082068279618913.8\n",
            "430 th eigen value is - 1078726655035791.6\n",
            "431 th eigen value is - 1063988080952639.6\n",
            "432 th eigen value is - 1061615894791632.6\n",
            "433 th eigen value is - 1033129052282623.8\n",
            "434 th eigen value is - 996651535198543.0\n",
            "435 th eigen value is - 993918410060423.9\n",
            "436 th eigen value is - 937822366541577.1\n",
            "437 th eigen value is - 911328095287793.0\n",
            "438 th eigen value is - 862866428995843.6\n",
            "439 th eigen value is - 827212053260454.4\n",
            "440 th eigen value is - 820951385378641.9\n",
            "441 th eigen value is - 786017046327065.1\n",
            "442 th eigen value is - 788955552827808.2\n",
            "443 th eigen value is - 792508672563558.4\n",
            "444 th eigen value is - 764257470553842.2\n",
            "445 th eigen value is - 746320098520554.6\n",
            "446 th eigen value is - 676811141365148.0\n",
            "447 th eigen value is - 666119179783940.4\n",
            "448 th eigen value is - 658222725887692.8\n",
            "449 th eigen value is - 577084643774156.8\n",
            "450 th eigen value is - 565212581184945.2\n",
            "451 th eigen value is - 560280973880443.3\n",
            "452 th eigen value is - 529104193847339.56\n",
            "453 th eigen value is - 502238604406830.7\n",
            "454 th eigen value is - 491677910130370.25\n",
            "455 th eigen value is - 478265098196521.1\n",
            "456 th eigen value is - 462280236488763.6\n",
            "457 th eigen value is - 441708953100728.4\n",
            "458 th eigen value is - 424928693071717.2\n",
            "459 th eigen value is - 422488994427166.94\n",
            "460 th eigen value is - 418452777221099.6\n",
            "461 th eigen value is - 410271705051119.94\n",
            "462 th eigen value is - 355521003492154.0\n",
            "463 th eigen value is - 351138983074515.94\n",
            "464 th eigen value is - 337048465066696.8\n",
            "465 th eigen value is - 329232957955452.8\n",
            "466 th eigen value is - 311345587398492.3\n",
            "467 th eigen value is - 302933740352575.94\n",
            "468 th eigen value is - 302171879360872.1\n",
            "469 th eigen value is - 297817867573732.25\n",
            "470 th eigen value is - 299017713584647.6\n",
            "471 th eigen value is - 291312088874175.25\n",
            "472 th eigen value is - 281479405877214.25\n",
            "473 th eigen value is - 270353762058935.72\n",
            "474 th eigen value is - 261968717184187.53\n",
            "475 th eigen value is - 257157636809666.6\n",
            "476 th eigen value is - 242782786620629.34\n",
            "477 th eigen value is - 222932735501004.8\n",
            "478 th eigen value is - 220126739359735.72\n",
            "479 th eigen value is - 210340871209151.8\n",
            "480 th eigen value is - 204933110500331.8\n",
            "481 th eigen value is - 202770701004209.5\n",
            "482 th eigen value is - 182173406423224.22\n",
            "483 th eigen value is - 159454452209333.72\n",
            "484 th eigen value is - 151954712920014.8\n",
            "485 th eigen value is - 151298199796668.0\n",
            "486 th eigen value is - 149992248414850.0\n",
            "487 th eigen value is - 142536005997545.66\n",
            "488 th eigen value is - 140161592038805.56\n",
            "489 th eigen value is - 134687719331499.64\n",
            "490 th eigen value is - 132473987019671.94\n",
            "491 th eigen value is - 122844089499037.94\n",
            "492 th eigen value is - 114285908472927.31\n",
            "493 th eigen value is - 110776057193210.4\n",
            "494 th eigen value is - 94438308734817.75\n",
            "495 th eigen value is - 91284965491033.81\n",
            "496 th eigen value is - 90986645502507.86\n",
            "497 th eigen value is - 89711792024564.53\n",
            "498 th eigen value is - 87311183825762.03\n",
            "499 th eigen value is - 85635761120557.5\n",
            "500 th eigen value is - 79251431533411.23\n",
            "501 th eigen value is - 73847023393025.92\n",
            "502 th eigen value is - 69866303340887.33\n",
            "503 th eigen value is - 67143445011743.08\n",
            "504 th eigen value is - 67348588786565.03\n",
            "505 th eigen value is - 65542679553875.555\n",
            "506 th eigen value is - 61785502451396.63\n",
            "507 th eigen value is - 61275055155566.09\n",
            "508 th eigen value is - 56183786021572.586\n",
            "509 th eigen value is - 56348427843751.0\n",
            "510 th eigen value is - 54816963363745.734\n",
            "511 th eigen value is - 51566121820059.375\n",
            "512 th eigen value is - 46681668952680.72\n",
            "513 th eigen value is - 44173807569664.41\n",
            "514 th eigen value is - 42914572721032.61\n",
            "515 th eigen value is - 42035902307613.37\n",
            "516 th eigen value is - 39837176549049.36\n",
            "517 th eigen value is - 39352014622680.664\n",
            "518 th eigen value is - 38657258360525.07\n",
            "519 th eigen value is - 37133754998622.484\n",
            "520 th eigen value is - 31580159107297.355\n",
            "521 th eigen value is - 28870303225104.3\n",
            "522 th eigen value is - 27342153312970.863\n",
            "523 th eigen value is - 27724602263497.855\n",
            "524 th eigen value is - 26015691652408.984\n",
            "525 th eigen value is - 24327241364558.363\n",
            "526 th eigen value is - 24169879753568.656\n",
            "527 th eigen value is - 22566939144683.9\n",
            "528 th eigen value is - 21487539379691.38\n",
            "529 th eigen value is - 21444879785118.48\n",
            "530 th eigen value is - 20702378701980.508\n",
            "531 th eigen value is - 20928919578358.33\n",
            "532 th eigen value is - 18575456826514.324\n",
            "533 th eigen value is - 18006251144427.41\n",
            "534 th eigen value is - 17748285039288.36\n",
            "535 th eigen value is - 17250182263145.967\n",
            "536 th eigen value is - 17435089585060.986\n",
            "537 th eigen value is - 16299236422597.568\n",
            "538 th eigen value is - 14811707860737.764\n",
            "539 th eigen value is - 13421166661059.334\n",
            "540 th eigen value is - 11988654259968.621\n",
            "541 th eigen value is - 11791398098252.54\n",
            "542 th eigen value is - 10901104491433.19\n",
            "543 th eigen value is - 10741923319246.797\n",
            "544 th eigen value is - 10570467698623.268\n",
            "545 th eigen value is - 10273837652147.332\n",
            "546 th eigen value is - 10204328974181.67\n",
            "547 th eigen value is - 9606919455127.459\n",
            "548 th eigen value is - 9465076789605.736\n",
            "549 th eigen value is - 9356591625966.137\n",
            "550 th eigen value is - 8885987411520.004\n",
            "551 th eigen value is - 8504341441707.545\n",
            "552 th eigen value is - 7999467614691.633\n",
            "553 th eigen value is - 7069745655633.531\n",
            "554 th eigen value is - 6983833251007.348\n",
            "555 th eigen value is - 6635975987480.043\n",
            "556 th eigen value is - 6610346845962.223\n",
            "557 th eigen value is - 6276710994036.965\n",
            "558 th eigen value is - 5547481691917.607\n",
            "559 th eigen value is - 4928559278090.933\n",
            "560 th eigen value is - 4814246313244.952\n",
            "561 th eigen value is - 4753425098206.697\n",
            "562 th eigen value is - 4693985852521.65\n",
            "563 th eigen value is - 4578037256151.813\n",
            "564 th eigen value is - 4479790971478.02\n",
            "565 th eigen value is - 4090401878401.7046\n",
            "566 th eigen value is - 4000327475910.26\n",
            "567 th eigen value is - 3909436666930.245\n",
            "568 th eigen value is - 3609183524022.556\n",
            "569 th eigen value is - 3281216260693.155\n",
            "570 th eigen value is - 3284173472493.903\n",
            "571 th eigen value is - 2849776149089.8623\n",
            "572 th eigen value is - 2634002032685.995\n",
            "573 th eigen value is - 2509259680430.167\n",
            "574 th eigen value is - 2462126640379.7163\n",
            "575 th eigen value is - 2406085946672.3184\n",
            "576 th eigen value is - 2150263828342.4167\n",
            "577 th eigen value is - 2125760941785.687\n",
            "578 th eigen value is - 2075027046368.5405\n",
            "579 th eigen value is - 1899129074515.1921\n",
            "580 th eigen value is - 1911973060682.997\n",
            "581 th eigen value is - 1841242188248.373\n",
            "582 th eigen value is - 1806146365819.2778\n",
            "583 th eigen value is - 1623941032613.8977\n",
            "584 th eigen value is - 1538252134593.4238\n",
            "585 th eigen value is - 1463928266851.068\n",
            "586 th eigen value is - 1425003302776.9756\n",
            "587 th eigen value is - 1390626416439.8228\n",
            "588 th eigen value is - 1328396581108.0876\n",
            "589 th eigen value is - 1284480974758.328\n",
            "590 th eigen value is - 1270771216034.4084\n",
            "591 th eigen value is - 1250978910775.079\n",
            "592 th eigen value is - 1159268044697.697\n",
            "593 th eigen value is - 1061866529245.2222\n",
            "594 th eigen value is - 958585933861.7874\n",
            "595 th eigen value is - 935856895493.592\n",
            "596 th eigen value is - 873941568113.731\n",
            "597 th eigen value is - 773046267421.609\n",
            "598 th eigen value is - 762089156088.7698\n",
            "599 th eigen value is - 749251243173.9082\n",
            "600 th eigen value is - 726181533411.8096\n",
            "601 th eigen value is - 710265445909.7046\n",
            "602 th eigen value is - 687781319104.6843\n",
            "603 th eigen value is - 610974756899.717\n",
            "604 th eigen value is - 580075342818.037\n",
            "605 th eigen value is - 457931418979.76263\n",
            "606 th eigen value is - 441272277031.8739\n",
            "607 th eigen value is - 449751188041.66284\n",
            "608 th eigen value is - 412201223694.4525\n",
            "609 th eigen value is - 406142614474.58325\n",
            "610 th eigen value is - 277135296025.12756\n",
            "611 th eigen value is - 271221531056.6735\n",
            "612 th eigen value is - 258774740527.85608\n",
            "613 th eigen value is - 224833791027.47995\n",
            "614 th eigen value is - 221625792623.7978\n",
            "615 th eigen value is - 219672686969.90408\n",
            "616 th eigen value is - 213091764734.7561\n",
            "617 th eigen value is - 207427999624.79755\n",
            "618 th eigen value is - 196580413503.61478\n",
            "619 th eigen value is - 179940083166.8435\n",
            "620 th eigen value is - 168900394443.99036\n",
            "621 th eigen value is - 149726514949.18222\n",
            "622 th eigen value is - 153600786045.59714\n",
            "623 th eigen value is - 116763923119.60547\n",
            "624 th eigen value is - 125483304746.03006\n",
            "625 th eigen value is - 94484747470.60583\n",
            "626 th eigen value is - 83693670199.60312\n",
            "627 th eigen value is - 82673082278.45786\n",
            "628 th eigen value is - 57782689599.26269\n",
            "629 th eigen value is - 65036626587.45473\n",
            "630 th eigen value is - 62023149911.87687\n",
            "631 th eigen value is - 63258169624.11362\n",
            "632 th eigen value is - 51321148015.942696\n",
            "633 th eigen value is - 49279965525.27471\n",
            "634 th eigen value is - 43429864904.65353\n",
            "635 th eigen value is - 43637540822.845276\n",
            "636 th eigen value is - 34990609726.637634\n",
            "637 th eigen value is - 31657374528.843964\n",
            "638 th eigen value is - 30402760516.097305\n",
            "639 th eigen value is - 24707945302.620434\n",
            "640 th eigen value is - 24011838646.676033\n",
            "641 th eigen value is - 22801000128.77703\n",
            "642 th eigen value is - 20716110505.536106\n",
            "643 th eigen value is - 19956840705.62559\n",
            "644 th eigen value is - 12658836715.517395\n",
            "645 th eigen value is - 13366455157.355837\n",
            "646 th eigen value is - 18030694218.850986\n",
            "647 th eigen value is - 15345134610.474155\n",
            "648 th eigen value is - 17396185699.849342\n",
            "649 th eigen value is - 16240513915.986635\n",
            "650 th eigen value is - 16545356476.032534\n",
            "651 th eigen value is - 9595093744.479353\n",
            "652 th eigen value is - 7646350731.959151\n",
            "653 th eigen value is - 7323260011.478064\n",
            "654 th eigen value is - 6276315654.610546\n",
            "655 th eigen value is - 6371994311.73458\n",
            "656 th eigen value is - 5857670133.593412\n",
            "657 th eigen value is - 4810003375.875081\n",
            "658 th eigen value is - 4291569735.945199\n",
            "659 th eigen value is - 3429818361.9109383\n",
            "660 th eigen value is - 3082100238.471286\n",
            "661 th eigen value is - 2927458326.4477663\n",
            "662 th eigen value is - 2554949740.257672\n",
            "663 th eigen value is - 1747137715.2791948\n",
            "664 th eigen value is - 1904056925.6113887\n",
            "665 th eigen value is - 2098178900.3732169\n",
            "666 th eigen value is - 2057560424.6736321\n",
            "667 th eigen value is - 2009996347.2893646\n",
            "668 th eigen value is - 2030283836.4564693\n",
            "669 th eigen value is - 1726559366.0152915\n",
            "670 th eigen value is - 1663220992.826044\n",
            "671 th eigen value is - 1690492976.4763174\n",
            "672 th eigen value is - 1572123506.2124856\n",
            "673 th eigen value is - 1418355702.6192062\n",
            "674 th eigen value is - 1335366629.251537\n",
            "675 th eigen value is - 861938288.6956792\n",
            "676 th eigen value is - 730594168.3363631\n",
            "677 th eigen value is - 632556815.9566746\n",
            "678 th eigen value is - 637369906.8107415\n",
            "679 th eigen value is - 615273490.5503396\n",
            "680 th eigen value is - 478519105.69838417\n",
            "681 th eigen value is - 459774935.482146\n",
            "682 th eigen value is - 381754227.7397162\n",
            "683 th eigen value is - 301671164.68194413\n",
            "684 th eigen value is - 291002822.38555855\n",
            "685 th eigen value is - 277370167.2120575\n",
            "686 th eigen value is - 177938884.84174338\n",
            "687 th eigen value is - 162804182.71175253\n",
            "688 th eigen value is - 148288672.28802896\n",
            "689 th eigen value is - 83995291.80680455\n",
            "690 th eigen value is - 76471055.22885765\n",
            "691 th eigen value is - 50305424.845932014\n",
            "692 th eigen value is - 38203577.74683702\n",
            "693 th eigen value is - 33954169.77578351\n",
            "694 th eigen value is - 28720055.376755353\n",
            "695 th eigen value is - 25707809.224129144\n",
            "696 th eigen value is - 23137514.74256638\n",
            "697 th eigen value is - 11983311.70694378\n",
            "698 th eigen value is - 8840548.64710551\n",
            "699 th eigen value is - 5116525.516341447\n",
            "700 th eigen value is - 3400686.944255007\n",
            "701 th eigen value is - 2619851.844227821\n",
            "702 th eigen value is - 2537288.7700059535\n",
            "703 th eigen value is - 2254644.04054028\n",
            "704 th eigen value is - 2068221.1397799465\n",
            "705 th eigen value is - 1987064.1048866555\n",
            "706 th eigen value is - 1877947.6864438413\n",
            "707 th eigen value is - 1036508.1632758555\n",
            "708 th eigen value is - 721702.1930463376\n",
            "709 th eigen value is - 657561.5714286139\n",
            "710 th eigen value is - 602465.7667184443\n",
            "711 th eigen value is - 132408.65837259113\n",
            "712 th eigen value is - 49762.878631136555\n",
            "713 th eigen value is - -3737.8378082911986\n",
            "714 th eigen value is - 4201.274743001638\n",
            "715 th eigen value is - 3772.7835015782257\n",
            "716 th eigen value is - 2202.2763973308597\n",
            "717 th eigen value is - 617.4841042715137\n",
            "718 th eigen value is - -266.9860484005713\n",
            "719 th eigen value is - -92.50689810269606\n",
            "720 th eigen value is - -92.50689810269606\n",
            "721 th eigen value is - 85.60891399020086\n",
            "722 th eigen value is - 85.60891399020086\n",
            "723 th eigen value is - 212.9968807680754\n",
            "724 th eigen value is - 212.9968807680754\n",
            "725 th eigen value is - 126.87698361319124\n",
            "726 th eigen value is - 126.87698361319124\n",
            "727 th eigen value is - 210.85742074474493\n",
            "728 th eigen value is - -150.32169216399632\n",
            "729 th eigen value is - -150.32169216399632\n",
            "730 th eigen value is - -175.23177583921438\n",
            "731 th eigen value is - 175.68754644793987\n",
            "732 th eigen value is - 138.8860290117379\n",
            "733 th eigen value is - 138.8860290117379\n",
            "734 th eigen value is - -44.986667772157475\n",
            "735 th eigen value is - -44.986667772157475\n",
            "736 th eigen value is - -94.2482112749853\n",
            "737 th eigen value is - -94.2482112749853\n",
            "738 th eigen value is - 76.51869830701858\n",
            "739 th eigen value is - 76.51869830701858\n",
            "740 th eigen value is - -93.26771365998398\n",
            "741 th eigen value is - -93.26771365998398\n",
            "742 th eigen value is - 36.37375119860951\n",
            "743 th eigen value is - 36.37375119860951\n",
            "744 th eigen value is - 95.90451817172782\n",
            "745 th eigen value is - 95.90451817172782\n",
            "746 th eigen value is - 95.97845528769592\n",
            "747 th eigen value is - -37.26934990855846\n",
            "748 th eigen value is - -37.26934990855846\n",
            "749 th eigen value is - 29.729592567132244\n",
            "750 th eigen value is - 29.729592567132244\n",
            "751 th eigen value is - -23.64053503513218\n",
            "752 th eigen value is - -23.64053503513218\n",
            "753 th eigen value is - 26.6593744728984\n",
            "754 th eigen value is - 26.6593744728984\n",
            "755 th eigen value is - -40.858297102934074\n",
            "756 th eigen value is - 30.632041606208407\n",
            "757 th eigen value is - -28.258844059642875\n",
            "758 th eigen value is - 2.143662441924756\n",
            "759 th eigen value is - 2.143662441924756\n",
            "760 th eigen value is - -7.030139268342317\n",
            "761 th eigen value is - 2.590169372303511\n",
            "762 th eigen value is - 2.590169372303511\n",
            "763 th eigen value is - -4.543999779128951\n",
            "764 th eigen value is - -1.0386374984466609\n",
            "765 th eigen value is - 0.8859318554125958\n",
            "766 th eigen value is - -0.014091890162091803\n",
            "767 th eigen value is - -0.014091890162091803\n",
            "768 th eigen value is - 0.00205261782866278\n",
            "769 th eigen value is - 3.4398726956194895e-08\n",
            "770 th eigen value is - 3.4398726956194895e-08\n",
            "771 th eigen value is - -7.142699339362788e-09\n",
            "772 th eigen value is - -2.3798740563475663e-10\n",
            "773 th eigen value is - 8.609268678320758e-11\n",
            "774 th eigen value is - -7.943015307849055e-12\n",
            "775 th eigen value is - -7.943015307849055e-12\n",
            "776 th eigen value is - 3.4893580411136724e-14\n",
            "777 th eigen value is - -2.872687065733558e-14\n",
            "778 th eigen value is - -4.071637514619462e-15\n",
            "779 th eigen value is - -2.3568955018906264e-15\n",
            "780 th eigen value is - -2.5564172451961254e-16\n",
            "781 th eigen value is - -2.5564172451961254e-16\n",
            "782 th eigen value is - 1.2731108840442817e-15\n",
            "783 th eigen value is - 9.951276509446181e-17\n",
            "784 th eigen value is - 2.9734201051985347e-16\n"
          ]
        }
      ]
    },
    {
      "cell_type": "code",
      "source": [
        "print(eig_vecs.shape)"
      ],
      "metadata": {
        "colab": {
          "base_uri": "https://localhost:8080/"
        },
        "id": "mCLsxmmBsqDb",
        "outputId": "48cb095b-b600-4ae9-b1d8-886719786e99"
      },
      "execution_count": 148,
      "outputs": [
        {
          "output_type": "stream",
          "name": "stdout",
          "text": [
            "(784, 784)\n"
          ]
        }
      ]
    },
    {
      "cell_type": "code",
      "source": [
        "variance = 0\n",
        "for i in range (784):\n",
        "  variance = ( variance + eig_vals[i])\n",
        "print(variance)"
      ],
      "metadata": {
        "colab": {
          "base_uri": "https://localhost:8080/"
        },
        "id": "c6HpXDFg0SDg",
        "outputId": "a7928677-94cd-48db-cf0a-cabf585d8af9"
      },
      "execution_count": 149,
      "outputs": [
        {
          "output_type": "stream",
          "name": "stdout",
          "text": [
            "(3.713240703226347e+20+0j)\n"
          ]
        }
      ]
    },
    {
      "cell_type": "code",
      "source": [
        "variance = 0\n",
        "for i in range (784):\n",
        "  variance = ( variance +np.real( eig_vals[i]))\n",
        "print(variance)"
      ],
      "metadata": {
        "colab": {
          "base_uri": "https://localhost:8080/"
        },
        "id": "VXdqBEUN0WFj",
        "outputId": "75d3281c-2824-483c-e414-8de4743eb77b"
      },
      "execution_count": 150,
      "outputs": [
        {
          "output_type": "stream",
          "name": "stdout",
          "text": [
            "3.713240703226347e+20\n"
          ]
        }
      ]
    },
    {
      "cell_type": "code",
      "source": [
        "var95 = 0\n",
        "dimension = 0\n",
        "for i in range (784):\n",
        "  var95 = (var95 + np.real(eig_vals[i]))\n",
        "  if(var95 >= (0.95 * variance)):\n",
        "    dimension = i\n",
        "    break;\n",
        "print(var95)\n",
        "print(var95/variance)\n",
        "print(dimension)"
      ],
      "metadata": {
        "colab": {
          "base_uri": "https://localhost:8080/"
        },
        "id": "QRi15P2c0eSj",
        "outputId": "99e3a63a-70bb-4dee-b1fe-bf78caf1e312"
      },
      "execution_count": 151,
      "outputs": [
        {
          "output_type": "stream",
          "name": "stdout",
          "text": [
            "3.52762436441433e+20\n",
            "0.9500123063256471\n",
            "130\n"
          ]
        }
      ]
    },
    {
      "cell_type": "code",
      "source": [
        "a = 0\n",
        "a = a + np.real(eig_vals[0])\n",
        "a = a + np.real(eig_vals[1])\n",
        "\n",
        "print(a)\n",
        "\n",
        "print(100*(a/variance))"
      ],
      "metadata": {
        "colab": {
          "base_uri": "https://localhost:8080/"
        },
        "id": "mnwdlNT50j0p",
        "outputId": "34999594-bc45-42cc-8c48-9ddff08fcb83"
      },
      "execution_count": 152,
      "outputs": [
        {
          "output_type": "stream",
          "name": "stdout",
          "text": [
            "9.832030607772085e+19\n",
            "26.478301283375643\n"
          ]
        }
      ]
    },
    {
      "cell_type": "code",
      "source": [
        "recreate = np.empty([60000,3])\n",
        "for i in range (60000):\n",
        "  recreate[i][0] = np.matmul(np.real(eig_vecs[0]),np_x_train[i])\n",
        "  recreate[i][1] = np.matmul(np.real(eig_vecs[1]),np_x_train[i])\n",
        "  recreate[i][2] = y_train[i]\n"
      ],
      "metadata": {
        "id": "JkqLObJk3vIj"
      },
      "execution_count": 153,
      "outputs": []
    },
    {
      "cell_type": "code",
      "source": [
        "import pandas as pd\n",
        "df = pd.DataFrame(recreate, columns = ['pc-1','pc-2','lebel'])\n",
        "\n",
        "print(df)"
      ],
      "metadata": {
        "colab": {
          "base_uri": "https://localhost:8080/"
        },
        "id": "UC9xHA4e70ZO",
        "outputId": "1839719f-3ace-4537-8736-33a014ebf093"
      },
      "execution_count": 154,
      "outputs": [
        {
          "output_type": "stream",
          "name": "stdout",
          "text": [
            "             pc-1       pc-2  lebel\n",
            "0      -11.183216 -11.183193    5.0\n",
            "1       -9.643857  -9.643857    0.0\n",
            "2        5.785966   5.785933    4.0\n",
            "3       -2.600203  -2.600165    1.0\n",
            "4     -178.353615 -11.587534    9.0\n",
            "...           ...        ...    ...\n",
            "59995   -5.813416  -5.813399    8.0\n",
            "59996   -4.452976  -4.452976    3.0\n",
            "59997   -2.057778  -2.057816    5.0\n",
            "59998  -11.127727 -11.127727    6.0\n",
            "59999   -0.542029  -0.542017    8.0\n",
            "\n",
            "[60000 rows x 3 columns]\n"
          ]
        }
      ]
    },
    {
      "cell_type": "code",
      "source": [
        "import seaborn as sns\n",
        "grid = sns.FacetGrid(df, hue=\"lebel\", height=10)\n",
        "grid.map(plt.scatter, \"pc-1\", \"pc-2\").add_legend()"
      ],
      "metadata": {
        "colab": {
          "base_uri": "https://localhost:8080/",
          "height": 746
        },
        "id": "z-WYdncA-vfz",
        "outputId": "9ca14213-95d1-4951-afc5-c02d755c8134"
      },
      "execution_count": 155,
      "outputs": [
        {
          "output_type": "execute_result",
          "data": {
            "text/plain": [
              "<seaborn.axisgrid.FacetGrid at 0x7f336d682160>"
            ]
          },
          "metadata": {},
          "execution_count": 155
        },
        {
          "output_type": "display_data",
          "data": {
            "text/plain": [
              "<Figure size 771.875x720 with 1 Axes>"
            ],
            "image/png": "[encoded data removed]"
          },
          "metadata": {
            "needs_background": "light"
          }
        }
      ]
    }
  ]
}
